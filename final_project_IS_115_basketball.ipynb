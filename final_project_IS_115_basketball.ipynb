{
  "nbformat": 4,
  "nbformat_minor": 0,
  "metadata": {
    "colab": {
      "name": "final-project-IS-115-basketball.ipynb",
      "provenance": [],
      "include_colab_link": true
    },
    "kernelspec": {
      "name": "python3",
      "display_name": "Python 3"
    },
    "language_info": {
      "name": "python"
    }
  },
  "cells": [
    {
      "cell_type": "markdown",
      "metadata": {
        "id": "view-in-github",
        "colab_type": "text"
      },
      "source": [
        "<a href=\"https://colab.research.google.com/github/Blakester609/final-project-basketball-IS-115/blob/main/final_project_IS_115_basketball.ipynb\" target=\"_parent\"><img src=\"https://colab.research.google.com/assets/colab-badge.svg\" alt=\"Open In Colab\"/></a>"
      ]
    },
    {
      "cell_type": "code",
      "metadata": {
        "id": "6xxdvJ9H_vHN",
        "colab": {
          "base_uri": "https://localhost:8080/"
        },
        "outputId": "9b5aca03-a6a6-4d04-cb41-1c8517cd965b"
      },
      "source": [
        "!pip install cookiecutter"
      ],
      "execution_count": null,
      "outputs": [
        {
          "output_type": "stream",
          "text": [
            "Collecting cookiecutter\n",
            "  Downloading https://files.pythonhosted.org/packages/95/83/83ebf950ec99b02c61719ccb116462844ba2e873df7c4d40afc962494312/cookiecutter-1.7.2-py2.py3-none-any.whl\n",
            "Requirement already satisfied: MarkupSafe<2.0.0 in /usr/local/lib/python3.7/dist-packages (from cookiecutter) (1.1.1)\n",
            "Requirement already satisfied: click>=7.0 in /usr/local/lib/python3.7/dist-packages (from cookiecutter) (7.1.2)\n",
            "Requirement already satisfied: six>=1.10 in /usr/local/lib/python3.7/dist-packages (from cookiecutter) (1.15.0)\n",
            "Collecting binaryornot>=0.4.4\n",
            "  Downloading https://files.pythonhosted.org/packages/24/7e/f7b6f453e6481d1e233540262ccbfcf89adcd43606f44a028d7f5fae5eb2/binaryornot-0.4.4-py2.py3-none-any.whl\n",
            "Collecting jinja2-time>=0.2.0\n",
            "  Downloading https://files.pythonhosted.org/packages/6a/a1/d44fa38306ffa34a7e1af09632b158e13ec89670ce491f8a15af3ebcb4e4/jinja2_time-0.2.0-py2.py3-none-any.whl\n",
            "Requirement already satisfied: requests>=2.23.0 in /usr/local/lib/python3.7/dist-packages (from cookiecutter) (2.23.0)\n",
            "Requirement already satisfied: python-slugify>=4.0.0 in /usr/local/lib/python3.7/dist-packages (from cookiecutter) (4.0.1)\n",
            "Requirement already satisfied: Jinja2<3.0.0 in /usr/local/lib/python3.7/dist-packages (from cookiecutter) (2.11.3)\n",
            "Collecting poyo>=0.5.0\n",
            "  Downloading https://files.pythonhosted.org/packages/42/50/0b0820601bde2eda403f47b9a4a1f270098ed0dd4c00c443d883164bdccc/poyo-0.5.0-py2.py3-none-any.whl\n",
            "Requirement already satisfied: chardet>=3.0.2 in /usr/local/lib/python3.7/dist-packages (from binaryornot>=0.4.4->cookiecutter) (3.0.4)\n",
            "Collecting arrow\n",
            "\u001b[?25l  Downloading https://files.pythonhosted.org/packages/ea/22/482a480cbee1aa7795a58b411159a4df249d6d4ceacdd9987ab946f78210/arrow-1.0.3-py3-none-any.whl (54kB)\n",
            "\u001b[K     |████████████████████████████████| 61kB 4.8MB/s \n",
            "\u001b[?25hRequirement already satisfied: certifi>=2017.4.17 in /usr/local/lib/python3.7/dist-packages (from requests>=2.23.0->cookiecutter) (2020.12.5)\n",
            "Requirement already satisfied: urllib3!=1.25.0,!=1.25.1,<1.26,>=1.21.1 in /usr/local/lib/python3.7/dist-packages (from requests>=2.23.0->cookiecutter) (1.24.3)\n",
            "Requirement already satisfied: idna<3,>=2.5 in /usr/local/lib/python3.7/dist-packages (from requests>=2.23.0->cookiecutter) (2.10)\n",
            "Requirement already satisfied: text-unidecode>=1.3 in /usr/local/lib/python3.7/dist-packages (from python-slugify>=4.0.0->cookiecutter) (1.3)\n",
            "Requirement already satisfied: typing-extensions; python_version < \"3.8\" in /usr/local/lib/python3.7/dist-packages (from arrow->jinja2-time>=0.2.0->cookiecutter) (3.7.4.3)\n",
            "Requirement already satisfied: python-dateutil>=2.7.0 in /usr/local/lib/python3.7/dist-packages (from arrow->jinja2-time>=0.2.0->cookiecutter) (2.8.1)\n",
            "Installing collected packages: binaryornot, arrow, jinja2-time, poyo, cookiecutter\n",
            "Successfully installed arrow-1.0.3 binaryornot-0.4.4 cookiecutter-1.7.2 jinja2-time-0.2.0 poyo-0.5.0\n"
          ],
          "name": "stdout"
        }
      ]
    },
    {
      "cell_type": "code",
      "metadata": {
        "colab": {
          "base_uri": "https://localhost:8080/"
        },
        "id": "FrXSM-JGDIDe",
        "outputId": "be0148a0-a6ba-4442-999e-814fc4041080"
      },
      "source": [
        "from google.colab import drive\n",
        "drive.mount('/content/drive')"
      ],
      "execution_count": null,
      "outputs": [
        {
          "output_type": "stream",
          "text": [
            "Mounted at /content/drive\n"
          ],
          "name": "stdout"
        }
      ]
    },
    {
      "cell_type": "code",
      "metadata": {
        "id": "N-IuJdY__4zJ"
      },
      "source": [
        ""
      ],
      "execution_count": null,
      "outputs": []
    },
    {
      "cell_type": "code",
      "metadata": {
        "id": "8773U7wc_0Xu",
        "colab": {
          "base_uri": "https://localhost:8080/"
        },
        "outputId": "318861ba-ae58-4376-bd33-2c4269c3ba42"
      },
      "source": [
        "!cookiecutter -c v1 https://github.com/drivendata/cookiecutter-data-science\n"
      ],
      "execution_count": null,
      "outputs": [
        {
          "output_type": "stream",
          "text": [
            "project_name [project_name]: Final_Project\n",
            "repo_name [final_project]: \n",
            "author_name [Your name (or your organization/company/team)]: \n",
            "description [A short description of the project.]: \n",
            "Select open_source_license:\n",
            "1 - MIT\n",
            "2 - BSD-3-Clause\n",
            "3 - No license file\n",
            "Choose from 1, 2, 3 [1]: \n",
            "s3_bucket [[OPTIONAL] your-bucket-for-syncing-data (do not include 's3://')]: \n",
            "aws_profile [default]: \n",
            "Select python_interpreter:\n",
            "1 - python3\n",
            "2 - python\n",
            "Choose from 1, 2 [1]: \n",
            "\n",
            "\n",
            "=============================================================================\n",
            "*** DEPRECATION WARNING ***\n",
            "\n",
            "Cookiecutter data science is moving to v2 soon, which will entail using\n",
            "the command `ccds ...` rather than `cookiecutter ...`. The cookiecutter command\n",
            "will continue to work, and this version of the template will still be available.\n",
            "To use the legacy template, you will need to explicitly use `-c v1` to select it.\n",
            "\n",
            "Please update any scripts/automation you have to append the `-c v1` option,\n",
            "which is available now.\n",
            "\n",
            "For example:\n",
            "    cookiecutter -c v1 https://github.com/drivendata/cookiecutter-data-science\n",
            "=============================================================================\n",
            "\n",
            "    \n"
          ],
          "name": "stdout"
        }
      ]
    },
    {
      "cell_type": "code",
      "metadata": {
        "id": "0QMQj6CfAQHI",
        "colab": {
          "base_uri": "https://localhost:8080/"
        },
        "outputId": "5b75b62d-0eeb-41c9-9574-b56e77424893"
      },
      "source": [
        "!ls\n"
      ],
      "execution_count": null,
      "outputs": [
        {
          "output_type": "stream",
          "text": [
            "final_project  sample_data\n"
          ],
          "name": "stdout"
        }
      ]
    },
    {
      "cell_type": "code",
      "metadata": {
        "id": "n_l5pFH_Ag56"
      },
      "source": [
        "!cd final_project/"
      ],
      "execution_count": null,
      "outputs": []
    },
    {
      "cell_type": "code",
      "metadata": {
        "id": "8tHMpZCUAkHK"
      },
      "source": [
        ""
      ],
      "execution_count": null,
      "outputs": []
    }
  ]
}